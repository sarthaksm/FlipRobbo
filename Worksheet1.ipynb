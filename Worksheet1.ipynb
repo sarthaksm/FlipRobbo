{
 "cells": [
  {
   "cell_type": "markdown",
   "id": "49b1d4f3",
   "metadata": {},
   "source": [
    "# Factorial of a Number"
   ]
  },
  {
   "cell_type": "code",
   "execution_count": 4,
   "id": "9ecc11ea",
   "metadata": {},
   "outputs": [
    {
     "name": "stdout",
     "output_type": "stream",
     "text": [
      "Enter Number = 4\n",
      "24 is the factorial of  4\n"
     ]
    }
   ],
   "source": [
    "s= int(input('Enter Number = '))\n",
    "factorial = 1\n",
    "if s<0:\n",
    "    print('There is no Factorial for this number')\n",
    "elif s == 0:\n",
    "    print('Factorial of 0 is 1')\n",
    "else:\n",
    "    for i in range(1,s+1):\n",
    "        factorial = factorial * i\n",
    "    print(factorial,'is the factorial of ',s)"
   ]
  },
  {
   "cell_type": "markdown",
   "id": "e06363e3",
   "metadata": {},
   "source": [
    "# Prime No. or Composite No."
   ]
  },
  {
   "cell_type": "code",
   "execution_count": 36,
   "id": "60dcb5e7",
   "metadata": {},
   "outputs": [
    {
     "name": "stdout",
     "output_type": "stream",
     "text": [
      "Enter number : 14\n",
      "14 is not a Prime number it is a Composite number\n"
     ]
    }
   ],
   "source": [
    "r = int(input(\"Enter number : \"))\n",
    "if r > 1:\n",
    "    for i in range(2, r):\n",
    "        if (r % i) == 0:\n",
    "            print(r, \"is not a Prime number it is a Composite number\")\n",
    "            break\n",
    "    else:\n",
    "        print(r, \"is a Prime number\")\n",
    "elif r == 0 or 1:\n",
    "    print(r, \"is a neither Prime number nor Composite number\")"
   ]
  },
  {
   "cell_type": "markdown",
   "id": "77dd8ac6",
   "metadata": {},
   "source": [
    "# Palindrome String"
   ]
  },
  {
   "cell_type": "code",
   "execution_count": 17,
   "id": "21eef7ad",
   "metadata": {},
   "outputs": [
    {
     "name": "stdout",
     "output_type": "stream",
     "text": [
      "No\n"
     ]
    }
   ],
   "source": [
    "def isPalindrome(str):\n",
    "    for i in range(0, int(len(str)/2)):\n",
    "        if str[i] != str[len(str)-i-1]:\n",
    "            return False\n",
    "        return True\n",
    "s = \"sarthak\"\n",
    "ans = isPalindrome(s)\n",
    "if (ans):\n",
    "    print(\"Yes\")\n",
    "else:\n",
    "    print(\"No\")"
   ]
  },
  {
   "cell_type": "markdown",
   "id": "38f8cde6",
   "metadata": {},
   "source": [
    "# Count Characters in string"
   ]
  },
  {
   "cell_type": "code",
   "execution_count": 23,
   "id": "531354e8",
   "metadata": {},
   "outputs": [
    {
     "name": "stdout",
     "output_type": "stream",
     "text": [
      "Enter the string: Sarthak\n",
      "S,1\n",
      "a,2\n",
      "r,1\n",
      "t,1\n",
      "h,1\n",
      "k,1\n"
     ]
    }
   ],
   "source": [
    "strglen=input(\"Enter the string: \")\n",
    "strng=list(strglen)\n",
    "strlist=[]\n",
    "for e in strng:\n",
    "    if e not in strlist:\n",
    "        strlist.append(e)\n",
    "        count=0\n",
    "        for i in range(len(strng)):\n",
    "            if e==strng[i]:\n",
    "                count+=1\n",
    "        print(\"{},{}\".format(e,count))"
   ]
  }
 ],
 "metadata": {
  "kernelspec": {
   "display_name": "Python 3 (ipykernel)",
   "language": "python",
   "name": "python3"
  },
  "language_info": {
   "codemirror_mode": {
    "name": "ipython",
    "version": 3
   },
   "file_extension": ".py",
   "mimetype": "text/x-python",
   "name": "python",
   "nbconvert_exporter": "python",
   "pygments_lexer": "ipython3",
   "version": "3.9.7"
  }
 },
 "nbformat": 4,
 "nbformat_minor": 5
}
